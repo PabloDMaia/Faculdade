{
  "nbformat": 4,
  "nbformat_minor": 0,
  "metadata": {
    "colab": {
      "provenance": [],
      "collapsed_sections": [
        "h7_5ViI5lMOy",
        "c3PBpqhtoMa-",
        "X7oF5WNKjpuH",
        "5WSRGusbmwhs",
        "EHN0JbXmrYs6"
      ],
      "authorship_tag": "ABX9TyNc6m6umt4lmgyrx9mf/ytx",
      "include_colab_link": true
    },
    "kernelspec": {
      "name": "python3",
      "display_name": "Python 3"
    },
    "language_info": {
      "name": "python"
    }
  },
  "cells": [
    {
      "cell_type": "markdown",
      "metadata": {
        "id": "view-in-github",
        "colab_type": "text"
      },
      "source": [
        "<a href=\"https://colab.research.google.com/github/PabloDMaia/Faculdade/blob/main/Python.ipynb\" target=\"_parent\"><img src=\"https://colab.research.google.com/assets/colab-badge.svg\" alt=\"Open In Colab\"/></a>"
      ]
    },
    {
      "cell_type": "markdown",
      "source": [
        "# **Meu Primeiro Programa (Parte 1)**"
      ],
      "metadata": {
        "id": "h7_5ViI5lMOy"
      }
    },
    {
      "cell_type": "code",
      "execution_count": null,
      "metadata": {
        "id": "PoFnPdYKhodD"
      },
      "outputs": [],
      "source": [
        "#entrada:\n",
        "nome = input('Digite o seu nome: ')\n",
        "idade = int(input('Digite a sua idade: '))\n",
        "endereco = input('Digite o seu endereço: ')\n",
        "altura = float(input('Digite a sua altura: '))\n",
        "peso = int(input('Digite o seu peso: '))\n",
        "sexo = input('Digite o seu genero: ')\n",
        "#saida:\n",
        "print(f'Nome: {nome}')\n",
        "print(f'Idade: {idade}')\n",
        "print(f'Endereço: {endereco}')\n",
        "print(f'Altura: {altura}')\n",
        "print(f'Peso: {peso}')\n",
        "print(f'Sexo: {sexo}')"
      ]
    },
    {
      "cell_type": "markdown",
      "source": [
        "# **Primeiro Programa Python com IA**"
      ],
      "metadata": {
        "id": "wSStpw0w5Ma_"
      }
    },
    {
      "cell_type": "code",
      "source": [
        "#Programa python usasndo a biblioteca Numpy para realizar algumas operções básicas\n",
        "\n",
        "import numpy as np\n",
        "\n",
        "#Criando duaz matrizes de duas dimensões\n",
        "x = np.array([[1,2],[3,4]])\n",
        "y = np.array([[5,6],[7,8]])\n",
        "\n",
        "#Criando duas matrizes de uma dimensão\n",
        "v = np.array([9,10])\n",
        "w = np.array([11,12])\n",
        "\n",
        "#Produto interno de vetores\n",
        "print(np.dot(v, w), \"\\n\")\n",
        "\n",
        "#Produto de matriz e vetor\n",
        "print(np.dot(x, v), \"\\n\")\n",
        "\n",
        "#Matriz e produto de matriz\n",
        "print(np.dot(x, y))"
      ],
      "metadata": {
        "id": "sA4LF6WC5TEF"
      },
      "execution_count": null,
      "outputs": []
    },
    {
      "cell_type": "markdown",
      "source": [
        "**Exemplo de Scikit-Learn**"
      ],
      "metadata": {
        "id": "vrCU42Rd6o2g"
      }
    },
    {
      "cell_type": "code",
      "source": [
        "from sklearn import datasets\n",
        "from sklearn import metrics\n",
        "from sklearn.tree import DecisionTreeClassifier"
      ],
      "metadata": {
        "id": "Ns_ZF8Rq6wD_"
      },
      "execution_count": null,
      "outputs": []
    },
    {
      "cell_type": "code",
      "source": [
        "#Carregar dados da iris\n",
        "dataset = datasets.load_iris()"
      ],
      "metadata": {
        "id": "obyVJkQr69md"
      },
      "execution_count": null,
      "outputs": []
    },
    {
      "cell_type": "code",
      "source": [
        "#Ajustar um modelo CART aos dados\n",
        "model = DecisionTreeClassifier()\n",
        "model.fit(dataset.data, dataset.target)\n",
        "print(model)"
      ],
      "metadata": {
        "id": "Q5jks6Wy7F93"
      },
      "execution_count": null,
      "outputs": []
    },
    {
      "cell_type": "code",
      "source": [
        "#fazer previsões\n",
        "expected = dataset.target\n",
        "predicted = model.predict(dataset.data)"
      ],
      "metadata": {
        "id": "FeQmXlKC7ZJe"
      },
      "execution_count": null,
      "outputs": []
    },
    {
      "cell_type": "code",
      "source": [
        "#Resumir o ajuste do modelo\n",
        "print(metrics.classification_report(expected, predicted))\n",
        "print(metrics.confusion_matrix(expected, predicted))"
      ],
      "metadata": {
        "id": "UwxvAPYo7wjz"
      },
      "execution_count": null,
      "outputs": []
    },
    {
      "cell_type": "markdown",
      "source": [
        "**Exemplo KNN em Python**"
      ],
      "metadata": {
        "id": "JUcUBkjiMiqp"
      }
    },
    {
      "cell_type": "code",
      "source": [
        "#Livros [didático, poesia, ficção, auto-ajuda, economia]\n",
        "'''\n",
        "o livro é de fácil leitura? (nota de 0 a 5)\n",
        "o livro é difícil? (nota de 0 a 5)\n",
        "o livro é cheio de fórmulas? (nota de 0 a 5)\n",
        "o livro contém rimas? (nota de 0 a 5)\n",
        "o livro é utópico? (nota de 0 a 5)\n",
        "'''\n",
        "\n",
        "livro1 = [0,5,5,0,0]\n",
        "livro2 = [0,5,0,0,0]\n",
        "livro3 = [5,5,0,0,0]\n",
        "livro4 = [0,0,5,5,0]\n",
        "isDidatico = [0,1,1,0] #as classes são atribuídas ao livro didático\n",
        "\n",
        "x = [livro1, livro2, livro3, livro4]\n",
        "y = isDidatico\n",
        "\n",
        "from sklearn.neighbors import KNeighborsClassifier\n",
        "\n",
        "neigh = KNeighborsClassifier(n_neighbors=3)\n",
        "\n",
        "neigh.fit(x, y)\n",
        "\n",
        "novoLivro = [[0,2,4,0,0]]\n",
        "result = neigh.predict(novoLivro)\n",
        "print(result)\n",
        "\n",
        "if result == 0:\n",
        "  print('é didático')\n",
        "else:\n",
        "  print('não é didático')"
      ],
      "metadata": {
        "id": "5Bm8ZLiwMmIF"
      },
      "execution_count": null,
      "outputs": []
    },
    {
      "cell_type": "markdown",
      "source": [
        "# **Exemplo e Atividade - 01**"
      ],
      "metadata": {
        "id": "c3PBpqhtoMa-"
      }
    },
    {
      "cell_type": "markdown",
      "source": [
        "**Entrada de Dados**"
      ],
      "metadata": {
        "id": "HGab9LLVoXZw"
      }
    },
    {
      "cell_type": "code",
      "source": [
        "nome = input('Digite o seu nome: ')\n",
        "try:\n",
        "  idade = int(input('Digite a sua idade: '))\n",
        "except:\n",
        "  print('Digite um número válido')"
      ],
      "metadata": {
        "id": "_rdDI4Bxoa8t"
      },
      "execution_count": null,
      "outputs": []
    },
    {
      "cell_type": "markdown",
      "source": [
        "**Saida de Dados**"
      ],
      "metadata": {
        "id": "pw1A89YUogOu"
      }
    },
    {
      "cell_type": "code",
      "source": [
        "print(f'Nome: {nome}')\n",
        "print(f'Idade: {idade}')"
      ],
      "metadata": {
        "id": "lm5w5HHoojC_"
      },
      "execution_count": null,
      "outputs": []
    },
    {
      "cell_type": "markdown",
      "source": [
        "# **Exemplo e Atividade - 02**"
      ],
      "metadata": {
        "id": "X7oF5WNKjpuH"
      }
    },
    {
      "cell_type": "markdown",
      "source": [
        "**Listas**"
      ],
      "metadata": {
        "id": "bFzdpeQal3QK"
      }
    },
    {
      "cell_type": "code",
      "source": [
        "#criando listas:\n",
        "\n",
        "l = [] #cria uma lista vazia\n",
        "x = [10, 15, 20] #cria uma lista com tres elementos\n",
        "x.append(int(input(\"Digite um número para a lista: \")))\n",
        "\n",
        "#imprimindo cada elemento da lista:\n",
        "print(x[0]) #10\n",
        "print(x[1]) #15\n",
        "print(x[2]) #20\n",
        "# incluindo um valor para a lista:\n",
        "l.append(\"Arsène\")\n",
        "l.append(\"Raoul\")\n",
        "\n",
        "print(x) # [10, 15, 20, ?]\n",
        "print(l) # [Arsèn, Raoul]\n",
        "\n",
        "print(x[1:3]) # [15, 20]\n",
        "print(len(x)) # 4\n",
        "del(x[1])\n",
        "print(x) # [10, 20, ?] ,pois exclui o 15, que estava no indice 1"
      ],
      "metadata": {
        "id": "f8MIhNasjzT6"
      },
      "execution_count": null,
      "outputs": []
    },
    {
      "cell_type": "markdown",
      "source": [
        "**Tuplas**"
      ],
      "metadata": {
        "id": "7m8rAT29l1Kn"
      }
    },
    {
      "cell_type": "code",
      "source": [
        "tupla = (1, 2, 3, 4, 5)\n",
        "t1 = 'a', 'b', 'c', 40, 50\n",
        "print(tupla)\n",
        "print(t1)\n",
        "\n",
        "#particionando a tupla:\n",
        "print(f'tupla[1:4]: {tupla[1:4]}')\n",
        "#tupla com lista:\n",
        "t2 = (10, [20, 30, 40])\n",
        "print(f'tupla t2: {t2}')\n",
        "print('Tamanho da tupla: ',len(t2))\n",
        "t2[1].append(50)\n",
        "print(f'tupla t2: {t2}')\n",
        "print(t2)"
      ],
      "metadata": {
        "id": "m2n_sf1alzDm"
      },
      "execution_count": null,
      "outputs": []
    },
    {
      "cell_type": "markdown",
      "source": [
        "**Dicionários**"
      ],
      "metadata": {
        "id": "5E-5vEbenWJu"
      }
    },
    {
      "cell_type": "code",
      "source": [
        "produtos = {'Lápis': 1.50,\n",
        "            'Caderno': 15.00,\n",
        "            'Caneta': 2.50,\n",
        "            'Borracha': 5.00}\n",
        "print(produtos)\n",
        "#alterando o preço do caderno:\n",
        "produtos['Caderno'] = 20.00\n",
        "print(produtos)\n",
        "#incluindo um produto:\n",
        "produtos['Livro'] = 50.00\n",
        "print(produtos)\n",
        "print('Preço do Lápis:', produtos['Lápis'])\n",
        "# verificando se uma chave existe:\n",
        "print('Caderno' in produtos)\n",
        "print('Gibi' in produtos)\n",
        "print(produtos.keys()) #mostra as chaves\n",
        "print(produtos.values()) #mostra os valores\n",
        "print(produtos.items())\n",
        "del(produtos['Caderno'])\n",
        "print(produtos)"
      ],
      "metadata": {
        "id": "i8KsNk1AnZbU"
      },
      "execution_count": null,
      "outputs": []
    },
    {
      "cell_type": "markdown",
      "source": [
        "**Exemplo 02**"
      ],
      "metadata": {
        "id": "lTFFuHTLq7yn"
      }
    },
    {
      "cell_type": "code",
      "source": [
        "#Exemplo 02\n",
        "#Lista\n",
        "lista  = []\n",
        "#Tupla\n",
        "tupla = {10, 20, 30, 40}\n",
        "#Dicionario\n",
        "dicionario = {'Arroz':23.50, 'Feijão':10.00, 'Tomate':4.99}\n",
        "\n",
        "lista.append(int(input(\"Digite um numero: \")))\n",
        "lista.append(int(input(\"Digite um numero: \")))\n",
        "lista.append(int(input(\"Digite um numero: \")))\n",
        "dicionario['Alface'] = 3.50\n",
        "print(lista)\n",
        "print(tupla)\n",
        "print(dicionario)"
      ],
      "metadata": {
        "id": "O_G8WjaJq-o6"
      },
      "execution_count": null,
      "outputs": []
    },
    {
      "cell_type": "code",
      "source": [
        "#Atividade 02\n",
        "#Lista\n",
        "lista  = []\n",
        "#Tupla\n",
        "tupla = {10, 20, 30, 40, 50}\n",
        "#Dicionario\n",
        "dicionario = {'Arsène':20, 'Raoul':99, 'Lupin':55}\n",
        "\n",
        "lista.append(int(input(\"Digite o primeiro numero: \")))\n",
        "lista.append(int(input(\"Digite o segundo numero: \")))\n",
        "lista.append(int(input(\"Digite o terceiro numero: \")))\n",
        "print(f'Lista: {lista}')\n",
        "print(f'Tupla: {tupla}')\n",
        "print(f'Dicionário: {dicionario}')"
      ],
      "metadata": {
        "id": "NklSN3uXs7iS"
      },
      "execution_count": null,
      "outputs": []
    },
    {
      "cell_type": "markdown",
      "source": [
        "# **Exemplo e Ativida - 03**"
      ],
      "metadata": {
        "id": "5WSRGusbmwhs"
      }
    },
    {
      "cell_type": "markdown",
      "source": [
        "**Estrutura de Decisão Simples**"
      ],
      "metadata": {
        "id": "PzHZrwSMm5rj"
      }
    },
    {
      "cell_type": "code",
      "source": [
        "primeiro = float(input('Digite um numero inteiro: '))\n",
        "segundo = float(input('Digite outro numero: '))\n",
        "#Estrutura condicional simples:\n",
        "if primeiro > segundo:\n",
        "  aux = primeiro\n",
        "  primeiro = segundo\n",
        "  segundo = aux\n",
        "print('Numeros em ordem crescente: ', primeiro, segundo)"
      ],
      "metadata": {
        "id": "QNkiPYZsm221"
      },
      "execution_count": null,
      "outputs": []
    },
    {
      "cell_type": "markdown",
      "source": [
        "**Estrutura Condicional Composta**"
      ],
      "metadata": {
        "id": "QxpuEu2EoYpx"
      }
    },
    {
      "cell_type": "code",
      "source": [
        "num = int(input('Digite um numero inteiro: '))\n",
        "if num % 2 == 0:\n",
        "  print(num, 'é par')\n",
        "else:\n",
        "  print(num, 'é impar')"
      ],
      "metadata": {
        "id": "XRaTqPsQofJP"
      },
      "execution_count": null,
      "outputs": []
    },
    {
      "cell_type": "markdown",
      "source": [
        "**Estrutura Condicional Aninhada**"
      ],
      "metadata": {
        "id": "W5aEwkGso_uB"
      }
    },
    {
      "cell_type": "code",
      "source": [
        "num = float(input('Digite um número: '))\n",
        "#Estrutura condicional aninhada:\n",
        "if num > 0:\n",
        "  print(num, 'é positivo')\n",
        "elif num < 0:\n",
        " print(num, 'é negativo')\n",
        "else:\n",
        "  print(num, 'é zero')"
      ],
      "metadata": {
        "id": "8yt6v-GupDfy"
      },
      "execution_count": null,
      "outputs": []
    },
    {
      "cell_type": "markdown",
      "source": [
        "**Estrutura For**"
      ],
      "metadata": {
        "id": "xj_rZnk3qcCj"
      }
    },
    {
      "cell_type": "code",
      "source": [
        "#Exemplo de for:\n",
        "for i  in range(11):\n",
        "  print(i, end=' ')"
      ],
      "metadata": {
        "id": "xXoMbgA2qfJA"
      },
      "execution_count": null,
      "outputs": []
    },
    {
      "cell_type": "code",
      "source": [
        "#Segundo exemplo:\n",
        "num = int(input('Digite um numero inteiro: '))\n",
        "print('Tabuada do',num)\n",
        "for i in range(1,11):\n",
        "  print(i,'x',num,'=',i*num)"
      ],
      "metadata": {
        "id": "bV0fpgVtrALt"
      },
      "execution_count": null,
      "outputs": []
    },
    {
      "cell_type": "code",
      "source": [
        "#Terceiro exemplo:\n",
        "num = int(input('Digite um numero inteiro: '))\n",
        "f = 1\n",
        "for i in range(num,1,-1):\n",
        "  f = f * i\n",
        "print('O fatorial de',num,'é',f)"
      ],
      "metadata": {
        "id": "4KzBc5_sr8tk"
      },
      "execution_count": null,
      "outputs": []
    },
    {
      "cell_type": "markdown",
      "source": [
        "**Estrutura While**"
      ],
      "metadata": {
        "id": "GiCRO6OKsrar"
      }
    },
    {
      "cell_type": "code",
      "source": [
        "#Exemplo de while:\n",
        "i = 0\n",
        "soma = 0\n",
        "while i <= 10:\n",
        "  print(i,end=' ')\n",
        "  soma = soma + i\n",
        "  i = i + 1\n",
        "print('\\nSoma:',soma)"
      ],
      "metadata": {
        "id": "iHJfIohYstwz"
      },
      "execution_count": null,
      "outputs": []
    },
    {
      "cell_type": "markdown",
      "source": [
        "**Exemplo e Prática 03**"
      ],
      "metadata": {
        "id": "eQ-XYpsTu-yp"
      }
    },
    {
      "cell_type": "code",
      "source": [
        "#Exemplo 03\n",
        "nums = []\n",
        "soma = 0\n",
        "while True:\n",
        "  n = int(input('Digite um numero inteiro: '))\n",
        "  if n >= 0:\n",
        "    nums.append(n)\n",
        "  else:\n",
        "    break\n",
        "for i in nums:\n",
        "  soma = soma + i\n",
        "print(nums)\n",
        "print('Soma: ',soma)"
      ],
      "metadata": {
        "id": "focYhylmvGLU"
      },
      "execution_count": null,
      "outputs": []
    },
    {
      "cell_type": "markdown",
      "source": [
        "---------------------------------------------------"
      ],
      "metadata": {
        "id": "11sZzu8X1Fv8"
      }
    },
    {
      "cell_type": "code",
      "source": [
        "#Prática 03\n",
        "while True:\n",
        "  try:\n",
        "    num = int(input('Digite um número inteiro não-negativo: '))\n",
        "    if(num>0):\n",
        "      break\n",
        "  except:\n",
        "    print('O programa só aceita números inteiros não negativos')"
      ],
      "metadata": {
        "id": "NL1czbuAw-wo"
      },
      "execution_count": null,
      "outputs": []
    },
    {
      "cell_type": "code",
      "source": [
        "import numpy as np\n",
        "x = np.round(num/2)\n",
        "ehPrimo = True\n",
        "while x>1:\n",
        "  if(num % x == 0):\n",
        "    ehPrimo = False\n",
        "    break\n",
        "  x = x -1\n",
        "\n",
        "if(ehPrimo):\n",
        "  print(f'O número {num} é primo')\n",
        "else:\n",
        "  print(f'O número {num} NÃO é primo')"
      ],
      "metadata": {
        "id": "ogkLwfHWznLN"
      },
      "execution_count": null,
      "outputs": []
    },
    {
      "cell_type": "markdown",
      "source": [],
      "metadata": {
        "id": "otgenRvDrWS1"
      }
    },
    {
      "cell_type": "markdown",
      "source": [
        "# **Exemplo e Atividade - 04**"
      ],
      "metadata": {
        "id": "EHN0JbXmrYs6"
      }
    },
    {
      "cell_type": "markdown",
      "source": [
        "**Vetor (Array Unidimensional)**"
      ],
      "metadata": {
        "id": "jUD-3ndGrmXk"
      }
    },
    {
      "cell_type": "code",
      "source": [
        "#Exemplo de vetor\n",
        "num = [1, 2, 3, 4, 5]\n",
        "print(num)\n",
        "#Mostrando pelo for:\n",
        "for x in num:\n",
        "  print(x,end=' ')"
      ],
      "metadata": {
        "id": "nsGKZdfHrsj7"
      },
      "execution_count": null,
      "outputs": []
    },
    {
      "cell_type": "markdown",
      "source": [
        "**Acessando o vetor pelo índice**"
      ],
      "metadata": {
        "id": "Qzgc_fPcswya"
      }
    },
    {
      "cell_type": "code",
      "source": [
        "num = [0, 0, 0, 0, 0]\n",
        "for i in range(5):\n",
        "  num[i] = int(input('Digite um número: '))\n",
        "\n",
        "print(num)"
      ],
      "metadata": {
        "id": "QUUvCMFxs07I"
      },
      "execution_count": null,
      "outputs": []
    },
    {
      "cell_type": "markdown",
      "source": [
        "**Array Bidimensional**"
      ],
      "metadata": {
        "id": "Ccm6Nr6NtJ9s"
      }
    },
    {
      "cell_type": "code",
      "source": [
        "#Exemplo de Matriz:\n",
        "matriz = [[0,0],[0,0],[0,0]]\n",
        "print(matriz)\n",
        "for i in range(3):\n",
        "  for j in range(2):\n",
        "    matriz[i][j] = int(input('Digite um número: '))\n",
        "print(matriz)"
      ],
      "metadata": {
        "id": "sBpJ7F_TtOWH"
      },
      "execution_count": null,
      "outputs": []
    },
    {
      "cell_type": "markdown",
      "source": [
        "**Procedimento sem parâmetro**"
      ],
      "metadata": {
        "id": "wESVtiCwu1pr"
      }
    },
    {
      "cell_type": "code",
      "source": [
        "def ola():\n",
        "  print(\"Olá, bem-vindo ao estudo de Python\")\n",
        "\n",
        "#chamada de módulo:\n",
        "ola()"
      ],
      "metadata": {
        "id": "xtnN_xkRu7_G"
      },
      "execution_count": null,
      "outputs": []
    },
    {
      "cell_type": "markdown",
      "source": [
        "**Procedimento com parâmetro**"
      ],
      "metadata": {
        "id": "aFXXw-wovUr8"
      }
    },
    {
      "cell_type": "code",
      "source": [
        "def ola(nome):\n",
        "  print('Olá,', nome,'seja bem-vindo(a)!')\n",
        "\n",
        "#modulo principal:\n",
        "nome = input('Digite um nome: ')\n",
        "#chamada de modulo:\n",
        "ola(nome)\n",
        "print('Fim do processamento')"
      ],
      "metadata": {
        "id": "WGR3KbLDvY5p"
      },
      "execution_count": null,
      "outputs": []
    },
    {
      "cell_type": "markdown",
      "source": [
        "**Função sem parâmetro**"
      ],
      "metadata": {
        "id": "Zxr_yF71v8oK"
      }
    },
    {
      "cell_type": "code",
      "source": [
        "def soma():\n",
        "  n1 = int(input('Digite um numero: '))\n",
        "  n2 = int(input('Digire outro numero: '))\n",
        "  s = n1 + n2\n",
        "  return s\n",
        "\n",
        "#modulo principal:\n",
        "s = soma()\n",
        "print('Resultado da soma: ',s)"
      ],
      "metadata": {
        "id": "dTWKXs-NwBm2"
      },
      "execution_count": null,
      "outputs": []
    },
    {
      "cell_type": "markdown",
      "source": [
        "**Função com parâmetro**"
      ],
      "metadata": {
        "id": "3Vvr2KuxwzRH"
      }
    },
    {
      "cell_type": "code",
      "source": [
        "def soma(n1, n2):\n",
        "  s = n1 + n2\n",
        "  return s\n",
        "\n",
        "#modulo principal:\n",
        "n1 = int(input('Digite um numero: '))\n",
        "n2 = int(input('Digire outro numero: '))\n",
        "s = soma(n1, n2)\n",
        "print('Resultado da soma: ',s)"
      ],
      "metadata": {
        "id": "evK7iWV1w46m"
      },
      "execution_count": null,
      "outputs": []
    },
    {
      "cell_type": "markdown",
      "source": [
        "---------------------------------------------------"
      ],
      "metadata": {
        "id": "TKRpxm2NyJ5o"
      }
    },
    {
      "cell_type": "markdown",
      "source": [
        "**Exemplo 04**"
      ],
      "metadata": {
        "id": "X-syUf9byFlp"
      }
    },
    {
      "cell_type": "code",
      "source": [
        "#Exemplo 04\n",
        "def preenche(matriz):\n",
        "  for i in range(3):\n",
        "    for j in range(3):\n",
        "      matriz[i][j] = int(input('Digite um numero: '))"
      ],
      "metadata": {
        "id": "5pdVEdNs1OcP"
      },
      "execution_count": null,
      "outputs": []
    },
    {
      "cell_type": "code",
      "source": [
        "def verifica_maior(matriz):\n",
        "  maior = matriz[0][0]\n",
        "  for i in range(3):\n",
        "    for j in range(3):\n",
        "      if matriz[i][j]>maior:\n",
        "        maior=matriz[i][j]\n",
        "  return maior"
      ],
      "metadata": {
        "id": "LfKjJToD1Q3A"
      },
      "execution_count": null,
      "outputs": []
    },
    {
      "cell_type": "code",
      "source": [
        "def soma(matriz):\n",
        "  s = 0\n",
        "  for i in range(3):\n",
        "    for j in range(3):\n",
        "      s = s + matriz[i][j]\n",
        "  return s"
      ],
      "metadata": {
        "id": "-oAJn5UD1UJL"
      },
      "execution_count": null,
      "outputs": []
    },
    {
      "cell_type": "code",
      "source": [
        "#modulo principal:\n",
        "matriz = [[0,0,0],[0,0,0],[0,0,0]]\n",
        "preenche(matriz)\n",
        "maior = verifica_maior(matriz)\n",
        "s = soma(matriz)\n",
        "print(matriz)\n",
        "print('Maior valor:',maior)\n",
        "print('Soma',s)"
      ],
      "metadata": {
        "id": "XE7eRwnxySv1"
      },
      "execution_count": null,
      "outputs": []
    },
    {
      "cell_type": "markdown",
      "source": [
        "**Atividade 04**"
      ],
      "metadata": {
        "id": "_zsw9LGv07b1"
      }
    },
    {
      "cell_type": "code",
      "source": [
        "lista=[]\n",
        "for i in range(10):\n",
        "    lista.append(int(input('Digite um numero: ')))"
      ],
      "metadata": {
        "id": "YxjhUd2X4da4"
      },
      "execution_count": null,
      "outputs": []
    },
    {
      "cell_type": "code",
      "source": [
        "import numpy as np\n",
        "def fPrimo(num):\n",
        "  if(num<2):\n",
        "    print(f'O numero {num} NÃO é primo')\n",
        "    return\n",
        "\n",
        "  x = np.round(num/2)\n",
        "  ehPrimo = True\n",
        "  while x>1:\n",
        "    if(num % x == 0):\n",
        "      ehPrimo = False\n",
        "      break\n",
        "    x = x -1\n",
        "  if(ehPrimo):\n",
        "    print(f'O número {num} é primo')\n",
        "  else:\n",
        "    print(f'O número {num} NÃO é primo')\n"
      ],
      "metadata": {
        "id": "20-YcINk407k"
      },
      "execution_count": null,
      "outputs": []
    },
    {
      "cell_type": "code",
      "source": [
        "#Modulo principal:\n",
        "for elem in lista:\n",
        "  fPrimo(elem)"
      ],
      "metadata": {
        "id": "pNJhK1qR6CAn"
      },
      "execution_count": null,
      "outputs": []
    },
    {
      "cell_type": "markdown",
      "source": [
        "# **Segundo Programa em Python**"
      ],
      "metadata": {
        "id": "XOKp1XRWXjtj"
      }
    },
    {
      "cell_type": "code",
      "source": [
        "#Python program using Matplotlib for forming a linear plot\n",
        "\n",
        "import matplotlib.pyplot as plt\n",
        "import numpy as np\n",
        "\n",
        "#preparando os dados\n",
        "x = np.linspace(0, 10, 100)\n",
        "\n",
        "#Criando o gráfico\n",
        "plt.plot(x, x, label='linear')\n",
        "\n",
        "#Adicionando legenda\n",
        "plt.legend()\n",
        "\n",
        "#Mostando gráfico\n",
        "plt.show()"
      ],
      "metadata": {
        "id": "4swrf9kRXqCk"
      },
      "execution_count": null,
      "outputs": []
    },
    {
      "cell_type": "code",
      "source": [
        "#Programa Python usando pandas para organizar um determinado conjunto de dados em uma tabela\n",
        "\n",
        "import pandas as pd\n",
        "\n",
        "data = {\"País\": [\"Brasil\", \"Russia\", \"India\", \"China\", \"Africa do Sul\"],\n",
        "        \"Capital\": [\"Brasília\", \"Moscow\", \"Nova Dehli\", \"Baeijing\", \"Pretoria\"],\n",
        "        \"Área\": [8.516, 17.10, 3.286, 9.597, 1.221],\n",
        "        \"População\": [200.4, 143.5, 1252, 1357, 52.98]}\n",
        "\n",
        "data_table = pd.DataFrame(data)\n",
        "print(data_table)"
      ],
      "metadata": {
        "id": "RstN7_MKaD7r"
      },
      "execution_count": null,
      "outputs": []
    },
    {
      "cell_type": "markdown",
      "source": [
        "**Algoritimo de K-means**"
      ],
      "metadata": {
        "id": "7pMVrr4-nMMl"
      }
    },
    {
      "cell_type": "code",
      "source": [
        "import matplotlib.pyplot as plt\n",
        "\n",
        "x = [4, 3, 10, 7, 8, 12, 9, 2, 10, 12]\n",
        "y = [25, 29, 24, 17, 16, 27, 29, 29, 22, 23]\n",
        "\n",
        "plt.scatter(x, y)\n",
        "plt.show()"
      ],
      "metadata": {
        "colab": {
          "base_uri": "https://localhost:8080/",
          "height": 430
        },
        "id": "p2JVryG0nRDZ",
        "outputId": "681d164f-fc2e-4df3-f042-4370f27c6137"
      },
      "execution_count": null,
      "outputs": [
        {
          "output_type": "display_data",
          "data": {
            "text/plain": [
              "<Figure size 640x480 with 1 Axes>"
            ],
            "image/png": "[encoded data removed]"
          },
          "metadata": {}
        }
      ]
    },
    {
      "cell_type": "code",
      "source": [
        "from sklearn.cluster import KMeans\n",
        "\n",
        "data = list(zip(x, y))\n",
        "inertias = []\n",
        "\n",
        "for i in range(1,11):\n",
        "  kmeans = KMeans(n_clusters=i)\n",
        "  kmeans.fit(data)\n",
        "  inertias.append(kmeans.inertia_)\n",
        "\n",
        "plt.plot(range(1,11), inertias, marker='x')\n",
        "plt.title('Método Elbow')\n",
        "plt.xlabel('Número ideal de grupos(cluster)')\n",
        "plt.ylabel('Inertia')\n",
        "plt.show()"
      ],
      "metadata": {
        "colab": {
          "base_uri": "https://localhost:8080/",
          "height": 839
        },
        "id": "_p_uY19On2ET",
        "outputId": "10fc5f8d-0456-48c0-8d21-acad48bd21b8"
      },
      "execution_count": null,
      "outputs": [
        {
          "output_type": "stream",
          "name": "stderr",
          "text": [
            "/usr/local/lib/python3.10/dist-packages/sklearn/cluster/_kmeans.py:870: FutureWarning: The default value of `n_init` will change from 10 to 'auto' in 1.4. Set the value of `n_init` explicitly to suppress the warning\n",
            "  warnings.warn(\n",
            "/usr/local/lib/python3.10/dist-packages/sklearn/cluster/_kmeans.py:870: FutureWarning: The default value of `n_init` will change from 10 to 'auto' in 1.4. Set the value of `n_init` explicitly to suppress the warning\n",
            "  warnings.warn(\n",
            "/usr/local/lib/python3.10/dist-packages/sklearn/cluster/_kmeans.py:870: FutureWarning: The default value of `n_init` will change from 10 to 'auto' in 1.4. Set the value of `n_init` explicitly to suppress the warning\n",
            "  warnings.warn(\n",
            "/usr/local/lib/python3.10/dist-packages/sklearn/cluster/_kmeans.py:870: FutureWarning: The default value of `n_init` will change from 10 to 'auto' in 1.4. Set the value of `n_init` explicitly to suppress the warning\n",
            "  warnings.warn(\n",
            "/usr/local/lib/python3.10/dist-packages/sklearn/cluster/_kmeans.py:870: FutureWarning: The default value of `n_init` will change from 10 to 'auto' in 1.4. Set the value of `n_init` explicitly to suppress the warning\n",
            "  warnings.warn(\n",
            "/usr/local/lib/python3.10/dist-packages/sklearn/cluster/_kmeans.py:870: FutureWarning: The default value of `n_init` will change from 10 to 'auto' in 1.4. Set the value of `n_init` explicitly to suppress the warning\n",
            "  warnings.warn(\n",
            "/usr/local/lib/python3.10/dist-packages/sklearn/cluster/_kmeans.py:870: FutureWarning: The default value of `n_init` will change from 10 to 'auto' in 1.4. Set the value of `n_init` explicitly to suppress the warning\n",
            "  warnings.warn(\n",
            "/usr/local/lib/python3.10/dist-packages/sklearn/cluster/_kmeans.py:870: FutureWarning: The default value of `n_init` will change from 10 to 'auto' in 1.4. Set the value of `n_init` explicitly to suppress the warning\n",
            "  warnings.warn(\n",
            "/usr/local/lib/python3.10/dist-packages/sklearn/cluster/_kmeans.py:870: FutureWarning: The default value of `n_init` will change from 10 to 'auto' in 1.4. Set the value of `n_init` explicitly to suppress the warning\n",
            "  warnings.warn(\n",
            "/usr/local/lib/python3.10/dist-packages/sklearn/cluster/_kmeans.py:870: FutureWarning: The default value of `n_init` will change from 10 to 'auto' in 1.4. Set the value of `n_init` explicitly to suppress the warning\n",
            "  warnings.warn(\n"
          ]
        },
        {
          "output_type": "display_data",
          "data": {
            "text/plain": [
              "<Figure size 640x480 with 1 Axes>"
            ],
            "image/png": "[encoded data removed]"
          },
          "metadata": {}
        }
      ]
    },
    {
      "cell_type": "code",
      "source": [
        "kmeans = KMeans(n_clusters=3)\n",
        "kmeans.fit(data)\n",
        "\n",
        "plt.scatter(x, y, c=kmeans.labels_)\n",
        "plt.show()"
      ],
      "metadata": {
        "colab": {
          "base_uri": "https://localhost:8080/",
          "height": 485
        },
        "id": "63EhoEgGqnBR",
        "outputId": "f56d2f1a-90fe-42ec-ac7b-b7e2b48dc746"
      },
      "execution_count": null,
      "outputs": [
        {
          "output_type": "stream",
          "name": "stderr",
          "text": [
            "/usr/local/lib/python3.10/dist-packages/sklearn/cluster/_kmeans.py:870: FutureWarning: The default value of `n_init` will change from 10 to 'auto' in 1.4. Set the value of `n_init` explicitly to suppress the warning\n",
            "  warnings.warn(\n"
          ]
        },
        {
          "output_type": "display_data",
          "data": {
            "text/plain": [
              "<Figure size 640x480 with 1 Axes>"
            ],
            "image/png": "[encoded data removed]"
          },
          "metadata": {}
        }
      ]
    },
    {
      "cell_type": "markdown",
      "source": [
        "**Mais um exemplo de KMeans**"
      ],
      "metadata": {
        "id": "ee6dlJucsTrY"
      }
    },
    {
      "cell_type": "code",
      "source": [
        "import numpy as np #para manipular os vetores\n",
        "from matplotlib import pyplot as plt #para plotar os graficos\n",
        "from sklearn.cluster import KMeans #para usar o KMeans\n",
        "\n",
        "dataset = np.array(\n",
        "    #matriz com as coordenadas geograficas de cada loja\n",
        "    [\n",
        "        [-25, -46],#Sao Paulo\n",
        "        [-22, -43],#Rio de Janeiro\n",
        "        [-25, -49],#Curitiba\n",
        "        [-30, -51],#Porto Alegre\n",
        "        [-19, -43],#Belo Horizonte\n",
        "        [-15, -47],#Brasilia\n",
        "        [-12, -38],#Salvador\n",
        "        [-8, -34],#Recife\n",
        "        [-16, -49],#Goiania\n",
        "        [-3, -60],#Manaus\n",
        "        [-22, -47],#Campinas\n",
        "        [-3, -38],#Fortaleza\n",
        "        [-21, -47],#Ribeirao Preto\n",
        "        [-23, -51],#Maringa\n",
        "        [-27, -48],#Florianopolis\n",
        "        [-21, -43],#Juiz de Fora\n",
        "        [-1, -48],#Belem\n",
        "        [-10, -67],#Rio Branco\n",
        "        [-8, -63],#Port Velho\n",
        "    ]\n",
        ")\n",
        "\n",
        "plt.scatter(dataset[:,1], dataset[:,0])#posicionamento dos eixos x e y\n",
        "plt.xlim(-75, -30)#range do eixo x\n",
        "plt.ylim(-50, 10)#range do eixo y\n",
        "plt.grid()#funcao que desenha a grade no nosso grafico\n",
        "kmeans = KMeans(n_clusters=3,#numero de clusters\n",
        "  init='k-means++', n_init = 10, #algoritmo que define a posicao dos cluster de maneira mais assertiva\n",
        "  max_iter = 300) # numero maximo de iteracoes\n",
        "pred_y = kmeans.fit_predict(dataset)\n",
        "plt.scatter(dataset[:,1], dataset[:,0], c = pred_y)#posicionamento dos eixos x e y\n",
        "plt.xlim(-75, -30)#range do eixo x\n",
        "plt.ylim(-50, 10)#range do eixo y\n",
        "plt.grid()#funcao que desenha a grade no nosso grafico\n",
        "plt.scatter(kmeans.cluster_centers_[:,1],kmeans.cluster_centers_[:,0], s=70, c='red')#posicao de cada cetroide no grafico\n",
        "plt.show()"
      ],
      "metadata": {
        "colab": {
          "base_uri": "https://localhost:8080/",
          "height": 435
        },
        "id": "7A5OQ1IksOn7",
        "outputId": "836aad90-9f49-455a-ab58-6d6fda8c1f1a"
      },
      "execution_count": null,
      "outputs": [
        {
          "output_type": "display_data",
          "data": {
            "text/plain": [
              "<Figure size 640x480 with 1 Axes>"
            ],
            "image/png": "[encoded data removed]"
          },
          "metadata": {}
        }
      ]
    },
    {
      "cell_type": "markdown",
      "source": [
        "# **Exemplo de Regressão Polinomial**"
      ],
      "metadata": {
        "id": "zIz-PxoPzqFM"
      }
    },
    {
      "cell_type": "code",
      "source": [
        "import numpy as np\n",
        "import matplotlib.pyplot as plt\n",
        "\n",
        "x = [1,2,3,5,6,7,8,9,10,12,13,14,15,16,18,19,21,22]\n",
        "y = [100,90,80,60,60,55,60,65,70,70,75,76,78,79,90,99,99,100]\n",
        "\n",
        "modelo = np.poly1d(np.polyfit(x, y, 3))\n",
        "\n",
        "linha = np.linspace(1, 22, 100)\n",
        "\n",
        "plt.scatter(x, y)\n",
        "plt.plot(linha, modelo(linha))\n",
        "plt.show"
      ],
      "metadata": {
        "colab": {
          "base_uri": "https://localhost:8080/",
          "height": 600
        },
        "id": "E7uiDL2HzuMD",
        "outputId": "af87fb0c-d5ed-4950-ee92-eac2a2d6335c"
      },
      "execution_count": null,
      "outputs": [
        {
          "output_type": "execute_result",
          "data": {
            "text/plain": [
              "<function matplotlib.pyplot.show(close=None, block=None)>"
            ],
            "text/html": [
              "<div style=\"max-width:800px; border: 1px solid var(--colab-border-color);\"><style>\n",
              "      pre.function-repr-contents {\n",
              "        overflow-x: auto;\n",
              "        padding: 8px 12px;\n",
              "        max-height: 500px;\n",
              "      }\n",
              "\n",
              "      pre.function-repr-contents.function-repr-contents-collapsed {\n",
              "        cursor: pointer;\n",
              "        max-height: 100px;\n",
              "      }\n",
              "    </style>\n",
              "    <pre style=\"white-space: initial; background:\n",
              "         var(--colab-secondary-surface-color); padding: 8px 12px;\n",
              "         border-bottom: 1px solid var(--colab-border-color);\"><b>matplotlib.pyplot.show</b><br/>def show(*args, **kwargs)</pre><pre class=\"function-repr-contents function-repr-contents-collapsed\" style=\"\"><a class=\"filepath\" style=\"display:none\" href=\"#\">/usr/local/lib/python3.10/dist-packages/matplotlib/pyplot.py</a>Display all open figures.\n",
              "\n",
              "Parameters\n",
              "----------\n",
              "block : bool, optional\n",
              "    Whether to wait for all figures to be closed before returning.\n",
              "\n",
              "    If `True` block and run the GUI main loop until all figure windows\n",
              "    are closed.\n",
              "\n",
              "    If `False` ensure that all figure windows are displayed and return\n",
              "    immediately.  In this case, you are responsible for ensuring\n",
              "    that the event loop is running to have responsive figures.\n",
              "\n",
              "    Defaults to True in non-interactive mode and to False in interactive\n",
              "    mode (see `.pyplot.isinteractive`).\n",
              "\n",
              "See Also\n",
              "--------\n",
              "ion : Enable interactive mode, which shows / updates the figure after\n",
              "      every plotting command, so that calling ``show()`` is not necessary.\n",
              "ioff : Disable interactive mode.\n",
              "savefig : Save the figure to an image file instead of showing it on screen.\n",
              "\n",
              "Notes\n",
              "-----\n",
              "**Saving figures to file and showing a window at the same time**\n",
              "\n",
              "If you want an image file as well as a user interface window, use\n",
              "`.pyplot.savefig` before `.pyplot.show`. At the end of (a blocking)\n",
              "``show()`` the figure is closed and thus unregistered from pyplot. Calling\n",
              "`.pyplot.savefig` afterwards would save a new and thus empty figure. This\n",
              "limitation of command order does not apply if the show is non-blocking or\n",
              "if you keep a reference to the figure and use `.Figure.savefig`.\n",
              "\n",
              "**Auto-show in jupyter notebooks**\n",
              "\n",
              "The jupyter backends (activated via ``%matplotlib inline``,\n",
              "``%matplotlib notebook``, or ``%matplotlib widget``), call ``show()`` at\n",
              "the end of every cell by default. Thus, you usually don&#x27;t have to call it\n",
              "explicitly there.</pre>\n",
              "      <script>\n",
              "      if (google.colab.kernel.accessAllowed && google.colab.files && google.colab.files.view) {\n",
              "        for (const element of document.querySelectorAll('.filepath')) {\n",
              "          element.style.display = 'block'\n",
              "          element.onclick = (event) => {\n",
              "            event.preventDefault();\n",
              "            event.stopPropagation();\n",
              "            google.colab.files.view(element.textContent, 401);\n",
              "          };\n",
              "        }\n",
              "      }\n",
              "      for (const element of document.querySelectorAll('.function-repr-contents')) {\n",
              "        element.onclick = (event) => {\n",
              "          event.preventDefault();\n",
              "          event.stopPropagation();\n",
              "          element.classList.toggle('function-repr-contents-collapsed');\n",
              "        };\n",
              "      }\n",
              "      </script>\n",
              "      </div>"
            ]
          },
          "metadata": {},
          "execution_count": 13
        },
        {
          "output_type": "display_data",
          "data": {
            "text/plain": [
              "<Figure size 640x480 with 1 Axes>"
            ],
            "image/png": "[encoded data removed]"
          },
          "metadata": {}
        }
      ]
    }
  ]
}